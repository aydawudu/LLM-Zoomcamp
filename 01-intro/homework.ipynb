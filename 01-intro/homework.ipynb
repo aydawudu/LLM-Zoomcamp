{
 "cells": [
  {
   "cell_type": "code",
   "execution_count": 1,
   "id": "605f5427-72e3-4a30-8d9a-bd944e4ba127",
   "metadata": {},
   "outputs": [],
   "source": [
    "import openai"
   ]
  },
  {
   "cell_type": "code",
   "execution_count": 2,
   "id": "ecb012a3-bfdc-498d-8c00-b8998be8a43b",
   "metadata": {},
   "outputs": [],
   "source": [
    "from openai import OpenAI"
   ]
  },
  {
   "cell_type": "code",
   "execution_count": 4,
   "id": "3c918ad4-af73-469e-9dc2-2f805ddc3bb7",
   "metadata": {},
   "outputs": [],
   "source": [
    "client=OpenAI(api_key=\"sk-ZenDXHGYJ9_tw4FqqmIpSMNdM9dw6OaIUorx1TGoPyT3BlbkFJRuR8cyPA099nGjlyRCrBCzAnyLZKeDOnsCb5AJjGoA\")"
   ]
  },
  {
   "cell_type": "code",
   "execution_count": 5,
   "id": "be2652d6-a7c4-459c-9917-ca11a5afd2a3",
   "metadata": {},
   "outputs": [],
   "source": [
    "import os"
   ]
  },
  {
   "cell_type": "code",
   "execution_count": 6,
   "id": "a58296f6-ddab-4fe0-b1b8-e4ac5e74cffb",
   "metadata": {},
   "outputs": [],
   "source": [
    "response= client.chat.completions.create(\n",
    "    model='gpt-4o',\n",
    "    messages=[{\"role\": \"user\", \"content\": \"is it too late to join the course?\"}]\n",
    ")"
   ]
  },
  {
   "cell_type": "code",
   "execution_count": 7,
   "id": "19713774-1a21-4df3-ab92-e7f819b5d401",
   "metadata": {},
   "outputs": [
    {
     "data": {
      "text/plain": [
       "ChatCompletion(id='chatcmpl-9vQEZWxwsfuKw0IWGSAK8hLvzwBRt', choices=[Choice(finish_reason='stop', index=0, logprobs=None, message=ChatCompletionMessage(content='It depends on the specific course and its enrollment policies. Some courses have strict deadlines, while others may allow late enrollment or rolling admissions. Here are a few steps you can take to find out:\\n\\n1. **Check the Course Website:** Review the course details on the official website or learning platform. They often list enrollment deadlines and relevant policies.\\n\\n2. **Contact the Instructor:** Reach out to the course instructor or administrator. They can provide you with information on whether late enrollment is possible.\\n\\n3. **Institution Policies:** Look at the general enrollment policies of the institution offering the course. Some institutions have specific guidelines for late registration.\\n\\n4. **Online Community:** If the course is part of an online community or forum, ask other participants or community members for advice.\\n\\n5. **Flexibility:** Some online courses allow self-paced learning or have multiple start dates, offering more flexibility for late joiners.\\n\\nAct promptly, as policies and availability can change quickly.', refusal=None, role='assistant', function_call=None, tool_calls=None))], created=1723472567, model='gpt-4o-2024-05-13', object='chat.completion', service_tier=None, system_fingerprint='fp_3aa7262c27', usage=CompletionUsage(completion_tokens=190, prompt_tokens=16, total_tokens=206))"
      ]
     },
     "execution_count": 7,
     "metadata": {},
     "output_type": "execute_result"
    }
   ],
   "source": [
    "response"
   ]
  },
  {
   "cell_type": "code",
   "execution_count": null,
   "id": "01377498-ed0c-41dc-a00a-679972b30a42",
   "metadata": {},
   "outputs": [],
   "source": []
  }
 ],
 "metadata": {
  "kernelspec": {
   "display_name": "Python 3 (ipykernel)",
   "language": "python",
   "name": "python3"
  },
  "language_info": {
   "codemirror_mode": {
    "name": "ipython",
    "version": 3
   },
   "file_extension": ".py",
   "mimetype": "text/x-python",
   "name": "python",
   "nbconvert_exporter": "python",
   "pygments_lexer": "ipython3",
   "version": "3.10.13"
  }
 },
 "nbformat": 4,
 "nbformat_minor": 5
}
